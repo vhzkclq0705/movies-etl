{
 "cells": [
  {
   "cell_type": "code",
   "execution_count": 1,
   "id": "bb407da4-f2da-4ffb-bbb6-b07236d56f55",
   "metadata": {},
   "outputs": [],
   "source": [
    "# tree -L 1\n",
    "# .\n",
    "# ├── dt=20240101\n",
    "# ├── dt=20240102\n",
    "# ├── dt=20240103\n",
    "# └── dt=20240104\n",
    "\n",
    "BASE_PATH = \"/Users/joon/swcamp4/data/movies/dailyboxoffice\""
   ]
  },
  {
   "cell_type": "code",
   "execution_count": 2,
   "id": "64a5fa9d-16fa-4b49-b553-728c17014290",
   "metadata": {},
   "outputs": [],
   "source": [
    "import pandas as pd\n",
    "\n",
    "df = pd.read_parquet(BASE_PATH)"
   ]
  },
  {
   "cell_type": "code",
   "execution_count": 3,
   "id": "baa6193c-3147-47af-8cfd-9457e2da4afe",
   "metadata": {},
   "outputs": [
    {
     "data": {
      "text/plain": [
       "Index(['rnum', 'rank', 'rankInten', 'rankOldAndNew', 'movieCd', 'movieNm',\n",
       "       'openDt', 'salesAmt', 'salesShare', 'salesInten', 'salesChange',\n",
       "       'salesAcc', 'audiCnt', 'audiInten', 'audiChange', 'audiAcc', 'scrnCnt',\n",
       "       'showCnt', 'dt', 'multiMovieYn', 'repNationCd'],\n",
       "      dtype='object')"
      ]
     },
     "execution_count": 3,
     "metadata": {},
     "output_type": "execute_result"
    }
   ],
   "source": [
    "df.columns"
   ]
  },
  {
   "cell_type": "code",
   "execution_count": 4,
   "id": "6c21100f-cd56-4930-a360-b75b662621d1",
   "metadata": {},
   "outputs": [],
   "source": [
    "A = pd.DataFrame({\n",
    "    \"movieCd\": [\"1001\", \"1002\", \"1003\"],\n",
    "    \"multiMovieYn\": [\"Y\", \"Y\", \"N\"],\n",
    "    \"repNationCd\": [\"K\", \"F\", None]\n",
    "})\n",
    "\n",
    "B = pd.DataFrame({\n",
    "    \"movieCd\": [\"1001\", \"1003\", \"1004\"],\n",
    "    \"multiMovieYn\": [None, \"Y\", \"Y\"],\n",
    "    \"repNationCd\": [None, \"F\", \"K\"]\n",
    "})"
   ]
  },
  {
   "cell_type": "code",
   "execution_count": 5,
   "id": "33b8383d-dbbd-4f02-9a03-2d4c055e3f8a",
   "metadata": {},
   "outputs": [],
   "source": [
    "# TODO ...\n",
    "\n",
    "# movieCd multiMovieYn repNationCd\n",
    "# 0    1001            Y           K\n",
    "# 1    1002            Y           F\n",
    "# 2    1003            N           F\n",
    "# 3    1004            Y           K"
   ]
  },
  {
   "cell_type": "code",
   "execution_count": 11,
   "id": "66daf573-21ea-4d83-9d5d-77ddcc729490",
   "metadata": {},
   "outputs": [],
   "source": [
    "C = A.combine_first(B)"
   ]
  },
  {
   "cell_type": "code",
   "execution_count": 14,
   "id": "39c177aa-abfc-4f21-b303-d35057c12aa4",
   "metadata": {},
   "outputs": [
    {
     "data": {
      "text/html": [
       "<div>\n",
       "<style scoped>\n",
       "    .dataframe tbody tr th:only-of-type {\n",
       "        vertical-align: middle;\n",
       "    }\n",
       "\n",
       "    .dataframe tbody tr th {\n",
       "        vertical-align: top;\n",
       "    }\n",
       "\n",
       "    .dataframe thead th {\n",
       "        text-align: right;\n",
       "    }\n",
       "</style>\n",
       "<table border=\"1\" class=\"dataframe\">\n",
       "  <thead>\n",
       "    <tr style=\"text-align: right;\">\n",
       "      <th></th>\n",
       "      <th>movieCd</th>\n",
       "      <th>multiMovieYn</th>\n",
       "      <th>repNationCd</th>\n",
       "    </tr>\n",
       "  </thead>\n",
       "  <tbody>\n",
       "    <tr>\n",
       "      <th>0</th>\n",
       "      <td>1001</td>\n",
       "      <td>Y</td>\n",
       "      <td>K</td>\n",
       "    </tr>\n",
       "    <tr>\n",
       "      <th>1</th>\n",
       "      <td>1002</td>\n",
       "      <td>Y</td>\n",
       "      <td>F</td>\n",
       "    </tr>\n",
       "    <tr>\n",
       "      <th>2</th>\n",
       "      <td>1003</td>\n",
       "      <td>N</td>\n",
       "      <td>K</td>\n",
       "    </tr>\n",
       "  </tbody>\n",
       "</table>\n",
       "</div>"
      ],
      "text/plain": [
       "  movieCd multiMovieYn repNationCd\n",
       "0    1001            Y           K\n",
       "1    1002            Y           F\n",
       "2    1003            N           K"
      ]
     },
     "execution_count": 14,
     "metadata": {},
     "output_type": "execute_result"
    }
   ],
   "source": [
    "C.combine_first(A)"
   ]
  },
  {
   "cell_type": "code",
   "execution_count": null,
   "id": "b64a6331-d59a-46a9-a466-c6fcdb93c97e",
   "metadata": {},
   "outputs": [],
   "source": []
  }
 ],
 "metadata": {
  "kernelspec": {
   "display_name": "Python 3 (ipykernel)",
   "language": "python",
   "name": "python3"
  },
  "language_info": {
   "codemirror_mode": {
    "name": "ipython",
    "version": 3
   },
   "file_extension": ".py",
   "mimetype": "text/x-python",
   "name": "python",
   "nbconvert_exporter": "python",
   "pygments_lexer": "ipython3",
   "version": "3.10.16"
  }
 },
 "nbformat": 4,
 "nbformat_minor": 5
}
