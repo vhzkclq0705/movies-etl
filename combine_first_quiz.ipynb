{
 "cells": [
  {
   "cell_type": "markdown",
   "id": "4e546e0a-ea54-4c79-ae98-e26d07bcf452",
   "metadata": {},
   "source": [
    "# Quiz 1\n",
    "\n",
    "### combine_first()"
   ]
  },
  {
   "cell_type": "code",
   "execution_count": 7,
   "id": "a06c7b90-0083-4ca7-82b0-03d9419c3a27",
   "metadata": {},
   "outputs": [],
   "source": [
    "import pandas as pd\n",
    "\n",
    "A = pd.DataFrame({\n",
    "    \"movieCd\": [\"1001\", \"1002\", \"1003\"],\n",
    "    \"multiMovieYn\": [\"Y\", \"Y\", \"N\"],\n",
    "    \"repNationCd\": [\"K\", \"F\", None]\n",
    "})\n",
    "\n",
    "B = pd.DataFrame({\n",
    "    \"movieCd\": [\"1001\", \"1003\", \"1004\"],\n",
    "    \"multiMovieYn\": [None, \"Y\", \"Y\"],\n",
    "    \"repNationCd\": [None, \"F\", \"K\"]\n",
    "})"
   ]
  },
  {
   "cell_type": "markdown",
   "id": "0d5a5bc8-db39-4c28-9f75-7c1084d8e730",
   "metadata": {},
   "source": [
    "Combine_first()는 index를 기준으로 병합한다.\n",
    "1. `movieCd`를 인덱스로 하여, movieCd를 기준으로 병합이 되게 설정한다.\n",
    "2. combine_first()를 통해 A와 B를 movieCd를 기준으로 병합한다.\n",
    "3. movieCd의 값이 1003인 경우, repNationCd가 None이므로, B의 F값을 가져온다.\n",
    "4. movieCd의 값이 1004인 경우, A에는 존재하지 않기 때문에 B에서 ultiMovieYn과 repNationCd의 값을 모두 가져온다."
   ]
  },
  {
   "cell_type": "code",
   "execution_count": 2,
   "id": "09507934-477e-4da3-b2fd-e96c98066117",
   "metadata": {},
   "outputs": [
    {
     "data": {
      "text/html": [
       "<div>\n",
       "<style scoped>\n",
       "    .dataframe tbody tr th:only-of-type {\n",
       "        vertical-align: middle;\n",
       "    }\n",
       "\n",
       "    .dataframe tbody tr th {\n",
       "        vertical-align: top;\n",
       "    }\n",
       "\n",
       "    .dataframe thead th {\n",
       "        text-align: right;\n",
       "    }\n",
       "</style>\n",
       "<table border=\"1\" class=\"dataframe\">\n",
       "  <thead>\n",
       "    <tr style=\"text-align: right;\">\n",
       "      <th></th>\n",
       "      <th>multiMovieYn</th>\n",
       "      <th>repNationCd</th>\n",
       "    </tr>\n",
       "    <tr>\n",
       "      <th>movieCd</th>\n",
       "      <th></th>\n",
       "      <th></th>\n",
       "    </tr>\n",
       "  </thead>\n",
       "  <tbody>\n",
       "    <tr>\n",
       "      <th>1001</th>\n",
       "      <td>Y</td>\n",
       "      <td>K</td>\n",
       "    </tr>\n",
       "    <tr>\n",
       "      <th>1002</th>\n",
       "      <td>Y</td>\n",
       "      <td>F</td>\n",
       "    </tr>\n",
       "    <tr>\n",
       "      <th>1003</th>\n",
       "      <td>N</td>\n",
       "      <td>None</td>\n",
       "    </tr>\n",
       "  </tbody>\n",
       "</table>\n",
       "</div>"
      ],
      "text/plain": [
       "        multiMovieYn repNationCd\n",
       "movieCd                         \n",
       "1001               Y           K\n",
       "1002               Y           F\n",
       "1003               N        None"
      ]
     },
     "execution_count": 2,
     "metadata": {},
     "output_type": "execute_result"
    }
   ],
   "source": [
    "A = A.set_index(\"movieCd\")\n",
    "A"
   ]
  },
  {
   "cell_type": "code",
   "execution_count": 3,
   "id": "48cfb692-449e-4fd8-ab63-646ed49c77a5",
   "metadata": {},
   "outputs": [
    {
     "data": {
      "text/html": [
       "<div>\n",
       "<style scoped>\n",
       "    .dataframe tbody tr th:only-of-type {\n",
       "        vertical-align: middle;\n",
       "    }\n",
       "\n",
       "    .dataframe tbody tr th {\n",
       "        vertical-align: top;\n",
       "    }\n",
       "\n",
       "    .dataframe thead th {\n",
       "        text-align: right;\n",
       "    }\n",
       "</style>\n",
       "<table border=\"1\" class=\"dataframe\">\n",
       "  <thead>\n",
       "    <tr style=\"text-align: right;\">\n",
       "      <th></th>\n",
       "      <th>multiMovieYn</th>\n",
       "      <th>repNationCd</th>\n",
       "    </tr>\n",
       "    <tr>\n",
       "      <th>movieCd</th>\n",
       "      <th></th>\n",
       "      <th></th>\n",
       "    </tr>\n",
       "  </thead>\n",
       "  <tbody>\n",
       "    <tr>\n",
       "      <th>1001</th>\n",
       "      <td>None</td>\n",
       "      <td>None</td>\n",
       "    </tr>\n",
       "    <tr>\n",
       "      <th>1003</th>\n",
       "      <td>Y</td>\n",
       "      <td>F</td>\n",
       "    </tr>\n",
       "    <tr>\n",
       "      <th>1004</th>\n",
       "      <td>Y</td>\n",
       "      <td>K</td>\n",
       "    </tr>\n",
       "  </tbody>\n",
       "</table>\n",
       "</div>"
      ],
      "text/plain": [
       "        multiMovieYn repNationCd\n",
       "movieCd                         \n",
       "1001            None        None\n",
       "1003               Y           F\n",
       "1004               Y           K"
      ]
     },
     "execution_count": 3,
     "metadata": {},
     "output_type": "execute_result"
    }
   ],
   "source": [
    "B = B.set_index(\"movieCd\")\n",
    "B"
   ]
  },
  {
   "cell_type": "code",
   "execution_count": 4,
   "id": "b2c36e0c-8188-4009-bd69-4e1724a9bc99",
   "metadata": {},
   "outputs": [
    {
     "data": {
      "text/html": [
       "<div>\n",
       "<style scoped>\n",
       "    .dataframe tbody tr th:only-of-type {\n",
       "        vertical-align: middle;\n",
       "    }\n",
       "\n",
       "    .dataframe tbody tr th {\n",
       "        vertical-align: top;\n",
       "    }\n",
       "\n",
       "    .dataframe thead th {\n",
       "        text-align: right;\n",
       "    }\n",
       "</style>\n",
       "<table border=\"1\" class=\"dataframe\">\n",
       "  <thead>\n",
       "    <tr style=\"text-align: right;\">\n",
       "      <th></th>\n",
       "      <th>movieCd</th>\n",
       "      <th>multiMovieYn</th>\n",
       "      <th>repNationCd</th>\n",
       "    </tr>\n",
       "  </thead>\n",
       "  <tbody>\n",
       "    <tr>\n",
       "      <th>0</th>\n",
       "      <td>1001</td>\n",
       "      <td>Y</td>\n",
       "      <td>K</td>\n",
       "    </tr>\n",
       "    <tr>\n",
       "      <th>1</th>\n",
       "      <td>1002</td>\n",
       "      <td>Y</td>\n",
       "      <td>F</td>\n",
       "    </tr>\n",
       "    <tr>\n",
       "      <th>2</th>\n",
       "      <td>1003</td>\n",
       "      <td>N</td>\n",
       "      <td>F</td>\n",
       "    </tr>\n",
       "    <tr>\n",
       "      <th>3</th>\n",
       "      <td>1004</td>\n",
       "      <td>Y</td>\n",
       "      <td>K</td>\n",
       "    </tr>\n",
       "  </tbody>\n",
       "</table>\n",
       "</div>"
      ],
      "text/plain": [
       "  movieCd multiMovieYn repNationCd\n",
       "0    1001            Y           K\n",
       "1    1002            Y           F\n",
       "2    1003            N           F\n",
       "3    1004            Y           K"
      ]
     },
     "execution_count": 4,
     "metadata": {},
     "output_type": "execute_result"
    }
   ],
   "source": [
    "A.combine_first(B).reset_index()"
   ]
  },
  {
   "cell_type": "markdown",
   "id": "5609fe18-3a4b-4ec2-9cf0-9227b1dd4a00",
   "metadata": {},
   "source": [
    "---"
   ]
  },
  {
   "cell_type": "markdown",
   "id": "6735a2b1-1acb-4e8b-b685-78b4b468ace3",
   "metadata": {},
   "source": [
    "# Quiz 2\n",
    "\n",
    "### merge"
   ]
  },
  {
   "cell_type": "code",
   "execution_count": 13,
   "id": "4492da28-64bb-4959-ae4b-150f82020c30",
   "metadata": {},
   "outputs": [
    {
     "name": "stdout",
     "output_type": "stream",
     "text": [
      "  movieCd multiMovieYn_A repNationCd_A multiMovieYn_B repNationCd_B\n",
      "0    1001              Y             K           None          None\n",
      "1    1002              Y             F            NaN           NaN\n",
      "2    1003              N          None              Y             F\n",
      "3    1004            NaN           NaN              Y             K\n"
     ]
    }
   ],
   "source": [
    "merged_df = A.merge(B, on=\"movieCd\", how=\"outer\", suffixes=(\"_A\", \"_B\"))\n",
    "merged_df[\"multiMovieYn\"] = merged_df[\"multiMovieYn_A\"].combine_first(merged_df[\"multiMovieYn_B\"])\n",
    "merged_df[\"repNationCd_A\"] = merged_df[\"repNationCd_A\"].combine_first(merged_df[\"repNationCd_B\"])"
   ]
  },
  {
   "cell_type": "code",
   "execution_count": null,
   "id": "0f8957e5-977f-43f8-b81d-1e99f5ba1158",
   "metadata": {},
   "outputs": [],
   "source": []
  }
 ],
 "metadata": {
  "kernelspec": {
   "display_name": "Python 3 (ipykernel)",
   "language": "python",
   "name": "python3"
  },
  "language_info": {
   "codemirror_mode": {
    "name": "ipython",
    "version": 3
   },
   "file_extension": ".py",
   "mimetype": "text/x-python",
   "name": "python",
   "nbconvert_exporter": "python",
   "pygments_lexer": "ipython3",
   "version": "3.10.16"
  }
 },
 "nbformat": 4,
 "nbformat_minor": 5
}
